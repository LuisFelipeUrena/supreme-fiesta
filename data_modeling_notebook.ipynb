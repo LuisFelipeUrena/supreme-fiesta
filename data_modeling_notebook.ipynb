{
 "metadata": {
  "kernelspec": {
   "display_name": "Streamlit Notebook",
   "name": "streamlit"
  }
 },
 "nbformat_minor": 5,
 "nbformat": 4,
 "cells": [
  {
   "cell_type": "code",
   "id": "d822a0f3-2b2f-4fd6-be52-d1b17e3140dd",
   "metadata": {
    "language": "sql",
    "name": "cell4",
    "collapsed": false
   },
   "outputs": [],
   "source": "CREATE OR REPLACE TABLE dim_vehicle (\n    vehicle_id INT AUTOINCREMENT PRIMARY KEY,\n    vin STRING,\n    make STRING,\n    model STRING,\n    year_model INTEGER,\n    electric_vehicle_type STRING,\n    base_msrp INTEGER\n);\n",
   "execution_count": null
  },
  {
   "cell_type": "code",
   "id": "16918158-eec0-4c31-afab-26b572c51a19",
   "metadata": {
    "language": "sql",
    "name": "cell5",
    "collapsed": false
   },
   "outputs": [],
   "source": "CREATE OR REPLACE TABLE dim_city (\n    city_id INT AUTOINCREMENT PRIMARY KEY,\n    city_name STRING,\n    state STRING,\n    county STRING,\n    postal_code STRING\n);\n",
   "execution_count": null
  },
  {
   "cell_type": "code",
   "id": "943cdaa2-487b-45bf-9f0b-3e696fb1c17b",
   "metadata": {
    "language": "sql",
    "name": "cell6",
    "collapsed": false
   },
   "outputs": [],
   "source": "CREATE OR REPLACE TABLE dim_time (\n    time_id INT AUTOINCREMENT PRIMARY KEY,\n    sale_date TIMESTAMP,\n    sale_day INTEGER,\n    sale_month INTEGER,\n    sale_quarter INTEGER,\n    sale_year INTEGER,\n    resale_date TIMESTAMP\n);\n",
   "execution_count": null
  },
  {
   "cell_type": "code",
   "id": "31ee423d-84b7-4e87-82b2-7f01469ae1d0",
   "metadata": {
    "language": "sql",
    "name": "cell7",
    "collapsed": false
   },
   "outputs": [],
   "source": "CREATE OR REPLACE TABLE fact_electric_vehicle_sales (\n    sale_id  INT AUTOINCREMENT PRIMARY KEY,\n    vehicle_id INT REFERENCES dim_vehicle(vehicle_id),\n    city_id INT REFERENCES dim_city(city_id),\n    time_id INT REFERENCES dim_time(time_id),\n    sale_price INTEGER,\n    electric_range INTEGER,\n    cafv_eligibility STRING,\n    buyer_id STRING\n);\n",
   "execution_count": null
  },
  {
   "cell_type": "code",
   "id": "48ecd3d3-965c-4bf3-8721-8f0725377f3d",
   "metadata": {
    "language": "sql",
    "name": "cell8",
    "collapsed": false
   },
   "outputs": [],
   "source": "INSERT INTO dim_vehicle (vin, make, model, year_model, electric_vehicle_type, base_msrp)\nSELECT DISTINCT\n    COALESCE(\"vin_110\",'UNKNOWN VIN') AS vin,\n    COALESCE(\"make\",'UNKNOWN MAKE') AS make,\n    COALESCE(\"model\",'UNKNOWN MODEL') AS model,\n    COALESCE(\"model_year\", 0000) AS year_model,\n    COALESCE(\"electric_vehicle_type\", 'UNKNOWN TYPE') AS electric_vehicle_type,\n    COALESCE(\"base_msrp\", 0) AS \"base_msrp\"\nFROM\n    electricvehicles.staging.ev_population_stg;\n",
   "execution_count": null
  },
  {
   "cell_type": "code",
   "id": "aa3bfdd7-99dc-46c6-8e60-a6c2fedff284",
   "metadata": {
    "language": "sql",
    "name": "cell9",
    "collapsed": false
   },
   "outputs": [],
   "source": "INSERT INTO dim_city (city_name, state, county, postal_code)\nSELECT DISTINCT\n    COALESCE(\"city\",'UNKNOWN CITY') AS city_name,\n    COALESCE(\"state\",'UNKNOWN STATE') as state,\n    COALESCE(\"county\",'UNKNOWN COUNTY') AS county,\n    COALESCE(\"postal_code\", 'UNKNOWN ZIP') AS postal_code\nFROM\n    electricvehicles.staging.ev_population_stg;\n",
   "execution_count": null
  },
  {
   "cell_type": "code",
   "id": "14e2fe76-82ff-43f1-bf16-c85e7a5ae303",
   "metadata": {
    "language": "sql",
    "name": "cell10",
    "collapsed": false
   },
   "outputs": [],
   "source": "INSERT INTO dim_time (sale_date, sale_day, sale_month, sale_quarter, sale_year, resale_date)\nSELECT DISTINCT\n    COALESCE(\"created_at\"::TIMESTAMP, '1970-01-01'::TIMESTAMP) AS sale_date,\n    COALESCE(EXTRACT(DAY FROM \"created_at\"::TIMESTAMP), 1) AS sale_day,\n    COALESCE(EXTRACT(MONTH FROM \"created_at\"::TIMESTAMP), 1) AS sale_month,\n    COALESCE(EXTRACT(QUARTER FROM \"created_at\"::TIMESTAMP), 1) AS sale_quarter,\n    COALESCE(EXTRACT(YEAR FROM \"created_at\"::TIMESTAMP), 1970) AS sale_year,\n    COALESCE(\"updated_at\"::TIMESTAMP, '1970-01-01'::TIMESTAMP) AS resale_date,\nFROM\n    electricvehicles.staging.ev_population_stg;\n",
   "execution_count": null
  },
  {
   "cell_type": "code",
   "id": "703d75c2-f1cf-4de2-80f8-0072f52c6216",
   "metadata": {
    "language": "sql",
    "name": "cell1",
    "collapsed": false
   },
   "outputs": [],
   "source": "INSERT INTO fact_electric_vehicle_sales (\nvehicle_id,\ncity_id,\ntime_id,\nsale_price,\nelectric_range,\nCAFV_ELIGIBILITY,\nbuyer_id\n)\nSELECT DISTINCT\nv.vehicle_id,\nc.city_id,\nt.time_id,\nCOALESCE(stg.\"base_msrp\", 0) as sale_price,\nCOALESCE(stg.\"electric_range\",0) as electric_range,\nCOALESCE(stg.\"clean_alternative_fuel_vehicle_cafv_eligibility\",'unknown') as CAFV_ELIGIBILITY,\nCOALESCE(stg.\"id\", 'unknown buyer') as buyer_id\nFROM electricvehicles.staging.ev_population_stg stg\nJOIN electricvehicles.staging.dim_vehicle v\nON stg.\"vin_110\" = v.vin\nJOIN electricvehicles.staging.dim_city c\nON stg.\"postal_code\" = c.postal_code\nJOIN electricvehicles.staging.dim_time t\nON stg.\"created_at\"::TIMESTAMP = t.sale_date;",
   "execution_count": null
  },
  {
   "cell_type": "markdown",
   "id": "f420bcc1-3913-46ff-8b84-a70293167f23",
   "metadata": {
    "name": "cell11",
    "collapsed": false
   },
   "source": "## Example queries to answer some common questions:\n\n- Top EV's/PHEV/BEV based on electric range and model\n- States/Cities with the most EV's/PHEV/BEV\n"
  },
  {
   "cell_type": "code",
   "id": "3cf47207-54b5-4c7a-9a09-c02b27869b09",
   "metadata": {
    "language": "sql",
    "name": "cell2",
    "collapsed": false
   },
   "outputs": [],
   "source": "SELECT\n\nv.make,\nv.model,\nMAX(f.electric_range) as max_range,\nFROM electricvehicles.staging.fact_electric_vehicle_sales f \nLEFT JOIN electricvehicles.staging.dim_vehicle v \nON f.vehicle_id = v.vehicle_id\n-- WHERE v.electric_vehicle_type LIKE '%PHEV%'\nGROUP BY 1,2\nORDER BY max_range DESC\n",
   "execution_count": null
  },
  {
   "cell_type": "code",
   "id": "f3c61852-9fe8-443b-9293-eff1dc7e487e",
   "metadata": {
    "language": "sql",
    "name": "cell3",
    "collapsed": false
   },
   "outputs": [],
   "source": "SELECT\nv.make,\nc.state,\nCOUNT(*) as totl_cars\n-- APPROX_COUNT_DISTINCT(v.vin) as cars\nFROM electricvehicles.staging.fact_electric_vehicle_sales f \nLEFT JOIN electricvehicles.staging.dim_vehicle v \nON f.vehicle_id = v.vehicle_id\nLEFT JOIN electricvehicles.staging.dim_city c\nON f.city_id = c.city_id\n-- WHERE v.electric_vehicle_type LIKE '%PHEV%'\nGROUP BY 1,2\nORDER BY  totl_cars DESC",
   "execution_count": null
  }
 ]
}