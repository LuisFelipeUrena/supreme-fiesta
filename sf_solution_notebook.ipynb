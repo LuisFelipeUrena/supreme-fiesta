{
 "metadata": {
  "kernelspec": {
   "display_name": "Streamlit Notebook",
   "name": "streamlit"
  }
 },
 "nbformat_minor": 5,
 "nbformat": 4,
 "cells": [
  {
   "cell_type": "code",
   "id": "ba10f4cd-ee49-468e-b762-d1593a1e0d62",
   "metadata": {
    "language": "sql",
    "name": "cell1",
    "collapsed": false
   },
   "outputs": [],
   "source": "CREATE OR REPLACE STORAGE INTEGRATION my_gcs_integration\nTYPE = EXTERNAL_STAGE\nSTORAGE_PROVIDER = 'GCS'\nSTORAGE_ALLOWED_LOCATIONS = ('gcs://sf-example')\nENABLED = TRUE;\n",
   "execution_count": null
  },
  {
   "cell_type": "code",
   "id": "21e64635-71fc-4d6f-a092-dd3be14e71ad",
   "metadata": {
    "language": "sql",
    "name": "cell2",
    "collapsed": false
   },
   "outputs": [],
   "source": "CREATE OR REPLACE STAGE my_external_stage\nURL = 'gcs://sf-example/ElectricVehiclePopulationData.json'\nSTORAGE_INTEGRATION = my_gcs_integration\nFILE_FORMAT = (TYPE = 'JSON');\n",
   "execution_count": null
  },
  {
   "cell_type": "code",
   "id": "5351c2c0-793b-4835-b8e6-16d95f47fc74",
   "metadata": {
    "language": "sql",
    "name": "cell3",
    "collapsed": false
   },
   "outputs": [],
   "source": "CREATE OR REPLACE TABLE SF_JSON_TABLE (\n    json_data VARIANT\n);\n\nCOPY INTO SF_JSON_TABLE\nFROM @my_external_stage\nFILE_FORMAT = (TYPE = 'JSON');\n",
   "execution_count": null
  },
  {
   "cell_type": "code",
   "id": "2364d1b3-eed2-48f9-9261-56788cc62f33",
   "metadata": {
    "language": "sql",
    "name": "cell4",
    "collapsed": false
   },
   "outputs": [],
   "source": "select json_data from SF_JSON_TABLE",
   "execution_count": null
  },
  {
   "cell_type": "code",
   "id": "a6a9f7ff-bb4c-4514-a188-32494681e565",
   "metadata": {
    "language": "python",
    "name": "cell5",
    "collapsed": false
   },
   "outputs": [],
   "source": "import pandas as pd\nimport json\n\ndf = cell4.to_pandas()\n\njson_string = df.loc[0,'JSON_DATA']\n\ndata = json.loads(json_string)\n\ndata['data'][0]\n",
   "execution_count": null
  },
  {
   "cell_type": "code",
   "id": "2019ef9c-859b-4f81-ad95-3703ac5895f4",
   "metadata": {
    "language": "python",
    "name": "cell6",
    "collapsed": false
   },
   "outputs": [],
   "source": "# this function will clean up the column names,\n# removing any problematic characters\nimport re\n\ndef rename_column(column_name: str) -> str:\n    \"\"\"\n    Renames a column name to be Snowflake-friendly.\n    \n    Snowflake column names:\n    - Must start with a letter or underscore\n    - Can contain letters, digits, or underscores\n    - Cannot contain spaces or special characters (except for underscores)\n    \"\"\"\n    # Replace spaces with underscores\n    column_name = column_name.replace(\" \", \"_\").lower()\n    \n    # Remove special characters (except underscores)\n    column_name = re.sub(r'[^a-zA-Z0-9_]', '', column_name)\n    \n    # Ensure the column name starts with a letter or underscore\n    if column_name[0].isdigit():\n        column_name = f'__{column_name}'\n    \n    return column_name\n\ndef extract_columns(raw_data: dict) -> list:\n    data = raw_data['meta']['view']['columns']\n    result_columns = []\n    for col in data:\n        renamed_column, col_type = rename_column(col['name']), 'NUMBER' if col.get('renderTypeName', '') == 'number' else 'TEXT'\n        result_columns.append((renamed_column, col_type,))\n    return result_columns\n    ",
   "execution_count": null
  },
  {
   "cell_type": "code",
   "id": "2c5ee76b-d8b8-4a39-acb8-e363fe5d1e74",
   "metadata": {
    "language": "python",
    "name": "cell7",
    "collapsed": false
   },
   "outputs": [],
   "source": "cols = extract_columns(data)\n\ncols",
   "execution_count": null
  },
  {
   "cell_type": "code",
   "id": "6aef88d3-2326-4506-b752-926cf61989f1",
   "metadata": {
    "language": "python",
    "name": "cell8",
    "collapsed": false
   },
   "outputs": [],
   "source": "# We can also use Snowpark for our analyses!\nfrom snowflake.snowpark.context import get_active_session\nsession = get_active_session()\n\n\n#Create the dataset directly!\nschema = [c[0] for c in cols]\n\ndf = session.createDataFrame(data=data['data'],schema=schema )\n\ndf.show()\n",
   "execution_count": null
  },
  {
   "cell_type": "code",
   "id": "4544dcee-d557-49fb-b8c2-a28fa613f623",
   "metadata": {
    "language": "python",
    "name": "cell10",
    "collapsed": false
   },
   "outputs": [],
   "source": "from snowflake.snowpark.functions import col\nfrom snowflake.snowpark.types import StringType, StructType, StructField, IntegerType\n\ndef create_electric_car_objects(data, cols, session):\n    # Define the schema based on the column names and their types\n    schema = StructType([StructField(col_name, IntegerType() if col_type == 'NUMBER' else StringType(), True) for col_name, col_type in cols])\n\n    # Create a Snowpark DataFrame from the list of lists\n    df = session.createDataFrame(data, schema=schema)\n\n    return df",
   "execution_count": null
  },
  {
   "cell_type": "code",
   "id": "70e6a18a-a479-4b4f-8f48-4233c770766a",
   "metadata": {
    "language": "python",
    "name": "cell11",
    "collapsed": false
   },
   "outputs": [],
   "source": "df2 = create_electric_car_objects(data['data'], cols, session)\ndf2.show()",
   "execution_count": null
  },
  {
   "cell_type": "code",
   "id": "b376e3e2-bf63-4bc9-83b7-57985cc84dd2",
   "metadata": {
    "language": "python",
    "name": "cell9",
    "collapsed": false
   },
   "outputs": [],
   "source": "# easily load this dataframe to a new table!\n\ndf.write.save_as_table('sf_ev_population_stg', mode='overwrite')",
   "execution_count": null
  }
 ]
}